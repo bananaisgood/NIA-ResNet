{
 "cells": [
  {
   "cell_type": "code",
   "execution_count": null,
   "id": "581218a8",
   "metadata": {},
   "outputs": [],
   "source": [
    "import torch\n",
    "import torchaudio\n",
    "import torchaudio.functional as F\n",
    "import torchaudio.transforms as T\n",
    "from IPython.display import Audio\n",
    "import librosa\n",
    "import matplotlib.pyplot as plt\n",
    "from torchaudio.utils import download_asset\n",
    "import numpy as np\n",
    "import librosa.display\n",
    "import librosa\n",
    "import os\n",
    "from PIL import Image\n",
    "import matplotlib.pyplot as plt\n",
    "import os.path"
   ]
  },
  {
   "cell_type": "code",
   "execution_count": null,
   "id": "8f76fbc4",
   "metadata": {},
   "outputs": [],
   "source": [
    "for i in range(1,530):\n",
    "    #img=Image.open('C:/Users/USER/Untitled Folder/Pic/A.층간소음_1.중량충격음_a.어른발걸음소리'+i+'.png')\n",
    "    img=Image.open(f'C:/Users/USER/주피터/마도요/16을 24로/음원 ({i}).png')\n",
    "    img=img.convert('RGB')\n",
    "    img_resize = img.resize((224, 224))\n",
    "    img_resize.save(f'mel{i}.jpg')"
   ]
  }
 ],
 "metadata": {
  "kernelspec": {
   "display_name": "Python 3 (ipykernel)",
   "language": "python",
   "name": "python3"
  },
  "language_info": {
   "codemirror_mode": {
    "name": "ipython",
    "version": 3
   },
   "file_extension": ".py",
   "mimetype": "text/x-python",
   "name": "python",
   "nbconvert_exporter": "python",
   "pygments_lexer": "ipython3",
   "version": "3.9.12"
  }
 },
 "nbformat": 4,
 "nbformat_minor": 5
}
