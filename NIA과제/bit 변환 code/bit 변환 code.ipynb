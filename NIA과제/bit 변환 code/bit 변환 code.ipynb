{
 "cells": [
  {
   "cell_type": "code",
   "execution_count": null,
   "id": "be6fcf4a",
   "metadata": {},
   "outputs": [],
   "source": [
    "import torch\n",
    "import torchaudio\n",
    "import torchaudio.functional as F\n",
    "import torchaudio.transforms as T\n",
    "from IPython.display import Audio\n",
    "import librosa\n",
    "import matplotlib.pyplot as plt\n",
    "from torchaudio.utils import download_asset\n",
    "import numpy as np\n",
    "import librosa.display\n",
    "import librosa\n",
    "import os\n",
    "from PIL import Image\n",
    "import matplotlib.pyplot as plt\n",
    "import os.path"
   ]
  },
  {
   "cell_type": "code",
   "execution_count": null,
   "id": "cb24fa30",
   "metadata": {},
   "outputs": [],
   "source": [
    "import soundfile as sf\n",
    "import os, sys\n",
    "# Open a file\n",
    "path = “/Users/gojaegwang/Downloads/Audios”\n",
    "dirs = os.listdir(path)\n",
    "# This would print all the files and directories\n",
    "for file in dirs:\n",
    "    print(file)\n",
    "    data, samplerate = sf.read(‘/Users/gojaegwang/Downloads/Audios/‘+file)\n",
    "    sf.write(‘/Users/gojaegwang/Downloads/Audio24/’+file, data, samplerate, ‘PCM_24’)"
   ]
  }
 ],
 "metadata": {
  "kernelspec": {
   "display_name": "Python 3 (ipykernel)",
   "language": "python",
   "name": "python3"
  },
  "language_info": {
   "codemirror_mode": {
    "name": "ipython",
    "version": 3
   },
   "file_extension": ".py",
   "mimetype": "text/x-python",
   "name": "python",
   "nbconvert_exporter": "python",
   "pygments_lexer": "ipython3",
   "version": "3.9.12"
  }
 },
 "nbformat": 4,
 "nbformat_minor": 5
}
