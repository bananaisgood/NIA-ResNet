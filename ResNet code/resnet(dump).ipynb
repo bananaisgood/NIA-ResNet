{
  "cells": [
    {
      "cell_type": "code",
      "source": [
        "from google.colab import drive\n",
        "drive.mount('/content/drive')"
      ],
      "metadata": {
        "colab": {
          "base_uri": "https://localhost:8080/"
        },
        "id": "cNekRHgggnDh",
        "outputId": "287e90ea-fa84-48a7-d480-a417a16c80a9"
      },
      "execution_count": 1,
      "outputs": [
        {
          "output_type": "stream",
          "name": "stdout",
          "text": [
            "Mounted at /content/drive\n"
          ]
        }
      ]
    },
    {
      "cell_type": "code",
      "source": [
        "pip install split-folders"
      ],
      "metadata": {
        "colab": {
          "base_uri": "https://localhost:8080/"
        },
        "id": "lsl7lkBHhKrt",
        "outputId": "ec95a057-fa36-43b6-8fe2-1279c345f800"
      },
      "execution_count": 2,
      "outputs": [
        {
          "output_type": "stream",
          "name": "stdout",
          "text": [
            "Looking in indexes: https://pypi.org/simple, https://us-python.pkg.dev/colab-wheels/public/simple/\n",
            "Collecting split-folders\n",
            "  Downloading split_folders-0.5.1-py3-none-any.whl (8.4 kB)\n",
            "Installing collected packages: split-folders\n",
            "Successfully installed split-folders-0.5.1\n"
          ]
        }
      ]
    },
    {
      "cell_type": "code",
      "execution_count": 3,
      "metadata": {
        "colab": {
          "base_uri": "https://localhost:8080/"
        },
        "id": "8Ru0Gz8fzJHg",
        "outputId": "71e901df-7e87-4453-edec-8de4f4ddebb8"
      },
      "outputs": [
        {
          "output_type": "stream",
          "name": "stderr",
          "text": [
            "Copying files: 529 files [06:32,  1.35 files/s]\n"
          ]
        },
        {
          "output_type": "stream",
          "name": "stdout",
          "text": [
            "test batch size:  32   test steps:  1\n",
            "Found 411 images belonging to 28 classes.\n",
            "Found 78 images belonging to 28 classes.\n",
            "Found 40 images belonging to 28 classes.\n"
          ]
        }
      ],
      "source": [
        "import splitfolders\n",
        "splitfolders.ratio(r'/content/drive/MyDrive/Colab Notebooks/dataset/Data(melspectrogram)', output=r'/content/C:\\Users\\USER\\Untitled Folder\\Data/', seed=1337, ratio=(0.8, 0.1, 0.1))\n",
        "import numpy as np\n",
        "import pandas as pd\n",
        "from sklearn.utils.multiclass import unique_labels\n",
        "import os\n",
        "import matplotlib.pyplot as plt\n",
        "import matplotlib.image as mpimg\n",
        "import seaborn as sns\n",
        "import itertools\n",
        "from sklearn.model_selection import train_test_split\n",
        "from sklearn.metrics import confusion_matrix\n",
        "from keras import Sequential\n",
        "from keras.applications.resnet import ResNet50 #For Transfer Learning\n",
        "from keras.preprocessing.image import ImageDataGenerator\n",
        "from tensorflow.keras.optimizers import SGD,Adam\n",
        "from keras.callbacks import ReduceLROnPlateau\n",
        "from keras.layers import Flatten,Dense,BatchNormalization,Activation,Dropout\n",
        "from tensorflow.keras.utils import to_categorical\n",
        "batch_size=25\n",
        "test_batch_size=32 \n",
        "test_steps=1\n",
        "train_path = r'/content/C:\\Users\\USER\\Untitled Folder\\Data/train'\n",
        "test_path = r'/content/C:\\Users\\USER\\Untitled Folder\\Data/test'\n",
        "val_path = r'/content/C:\\Users\\USER\\Untitled Folder\\Data/val'\n",
        "print ( 'test batch size: ' ,test_batch_size, '  test steps: ', test_steps)\n",
        "def scalar(img):    \n",
        "    return img  # EfficientNet expects pixelsin range 0 to 255 so no scaling is required\n",
        "trgen=ImageDataGenerator(preprocessing_function=scalar, horizontal_flip=True)\n",
        "tvgen=ImageDataGenerator(preprocessing_function=scalar)\n",
        "train_generator=trgen.flow_from_directory( directory=train_path , target_size=(224,224), class_mode='categorical',\n",
        "                                    color_mode='rgb', shuffle=True, batch_size=batch_size)\n",
        "test_generator=tvgen.flow_from_directory( directory=test_path, target_size=(224,224), class_mode='categorical',\n",
        "                                    color_mode='rgb', shuffle=False, batch_size=test_batch_size)\n",
        "\n",
        "valid_generator=tvgen.flow_from_directory( directory=val_path, target_size=(224,224), class_mode='categorical',\n",
        "                                    color_mode='rgb', shuffle=True, batch_size=batch_size)\n",
        "classes=list(train_generator.class_indices.keys())\n",
        "class_count=len(classes)\n",
        "train_steps=int(np.ceil(len(train_generator.labels)/batch_size))\n",
        "\n",
        "\n"
      ]
    },
    {
      "cell_type": "code",
      "execution_count": 4,
      "metadata": {
        "id": "0pwafYWSfs-O",
        "colab": {
          "base_uri": "https://localhost:8080/"
        },
        "outputId": "7bb904cb-b525-47e1-8d2d-82ee1850f6cf"
      },
      "outputs": [
        {
          "output_type": "stream",
          "name": "stdout",
          "text": [
            "Downloading data from https://storage.googleapis.com/tensorflow/keras-applications/resnet/resnet50_weights_tf_dim_ordering_tf_kernels_notop.h5\n",
            "94773248/94765736 [==============================] - 1s 0us/step\n",
            "94781440/94765736 [==============================] - 1s 0us/step\n"
          ]
        }
      ],
      "source": [
        "lrr= ReduceLROnPlateau(monitor='val_acc', factor=.01, patience=3, min_lr=1e-5)\n",
        "base_model = ResNet50(include_top = False, weights = 'imagenet', input_shape = (224,224,3), classes = 28)\n"
      ]
    },
    {
      "cell_type": "code",
      "source": [
        "import tensorflow as tf"
      ],
      "metadata": {
        "id": "8uOFpIcuksrh"
      },
      "execution_count": 5,
      "outputs": []
    },
    {
      "cell_type": "code",
      "execution_count": 6,
      "metadata": {
        "colab": {
          "base_uri": "https://localhost:8080/"
        },
        "id": "CkwDkyRsfzbp",
        "outputId": "4620e86a-82f0-4f4f-ce4c-0d2d95e7d412"
      },
      "outputs": [
        {
          "output_type": "stream",
          "name": "stdout",
          "text": [
            "Model: \"sequential\"\n",
            "_________________________________________________________________\n",
            " Layer (type)                Output Shape              Param #   \n",
            "=================================================================\n",
            " resnet50 (Functional)       (None, 7, 7, 2048)        23587712  \n",
            "                                                                 \n",
            " flatten (Flatten)           (None, 100352)            0         \n",
            "                                                                 \n",
            " dense (Dense)               (None, 1024)              102761472 \n",
            "                                                                 \n",
            " dense_1 (Dense)             (None, 512)               524800    \n",
            "                                                                 \n",
            " dense_2 (Dense)             (None, 256)               131328    \n",
            "                                                                 \n",
            " dropout (Dropout)           (None, 256)               0         \n",
            "                                                                 \n",
            " dense_3 (Dense)             (None, 128)               32896     \n",
            "                                                                 \n",
            " dense_4 (Dense)             (None, 28)                3612      \n",
            "                                                                 \n",
            "=================================================================\n",
            "Total params: 127,041,820\n",
            "Trainable params: 126,988,700\n",
            "Non-trainable params: 53,120\n",
            "_________________________________________________________________\n"
          ]
        }
      ],
      "source": [
        "model= Sequential()\n",
        "model.add(base_model) \n",
        "model.add(Flatten()) \n",
        "model.add(Dense(1024,activation=('relu'),input_dim=512))\n",
        "model.add(Dense(512,activation=('relu'))) \n",
        "model.add(Dense(256,activation=('relu'))) \n",
        "model.add(Dropout(.3))\n",
        "model.add(Dense(128,activation=('relu')))\n",
        "#model.add(Dropout(.2))\n",
        "model.add(Dense(28,activation=('softmax'))) \n",
        "\n",
        "#Checking the final model summary\n",
        "model.summary()"
      ]
    },
    {
      "cell_type": "code",
      "execution_count": 7,
      "metadata": {
        "id": "wuL78EWMf6fS"
      },
      "outputs": [],
      "source": [
        "learn_rate=.001\n",
        "sgd=SGD(learning_rate=learn_rate,momentum=.9,nesterov=False)\n",
        "adam=Adam(learning_rate=learn_rate, beta_1=0.9, beta_2=0.999, epsilon=None, decay=0.0, amsgrad=False)\n",
        "model.compile(optimizer=sgd,loss='categorical_crossentropy',metrics=['accuracy'])"
      ]
    },
    {
      "cell_type": "code",
      "execution_count": 8,
      "metadata": {
        "colab": {
          "base_uri": "https://localhost:8080/"
        },
        "id": "6pBOCqyXeF45",
        "outputId": "7ded6081-f0cc-4d63-9c27-e663f7e1f492"
      },
      "outputs": [
        {
          "output_type": "stream",
          "name": "stdout",
          "text": [
            "Epoch 1/10\n",
            "17/17 [==============================] - 25s 441ms/step - loss: 3.1665 - accuracy: 0.1533 - val_loss: 2.7090 - val_accuracy: 0.2750\n",
            "Epoch 2/10\n",
            "17/17 [==============================] - 5s 279ms/step - loss: 2.2439 - accuracy: 0.3966 - val_loss: 2.1810 - val_accuracy: 0.4500\n",
            "Epoch 3/10\n",
            "17/17 [==============================] - 5s 280ms/step - loss: 1.7544 - accuracy: 0.5158 - val_loss: 2.3090 - val_accuracy: 0.2750\n",
            "Epoch 4/10\n",
            "17/17 [==============================] - 5s 281ms/step - loss: 1.3754 - accuracy: 0.5839 - val_loss: 1.9887 - val_accuracy: 0.4250\n",
            "Epoch 5/10\n",
            "17/17 [==============================] - 5s 290ms/step - loss: 1.0536 - accuracy: 0.6667 - val_loss: 1.3708 - val_accuracy: 0.5500\n",
            "Epoch 6/10\n",
            "17/17 [==============================] - 5s 282ms/step - loss: 0.7223 - accuracy: 0.7956 - val_loss: 1.5294 - val_accuracy: 0.6000\n",
            "Epoch 7/10\n",
            "17/17 [==============================] - 5s 284ms/step - loss: 0.5801 - accuracy: 0.8345 - val_loss: 1.3798 - val_accuracy: 0.6500\n",
            "Epoch 8/10\n",
            "17/17 [==============================] - 5s 285ms/step - loss: 0.4161 - accuracy: 0.8686 - val_loss: 1.4810 - val_accuracy: 0.6000\n",
            "Epoch 9/10\n",
            "17/17 [==============================] - 5s 289ms/step - loss: 0.2879 - accuracy: 0.9075 - val_loss: 1.2227 - val_accuracy: 0.7000\n",
            "Epoch 10/10\n",
            "17/17 [==============================] - 5s 287ms/step - loss: 0.2381 - accuracy: 0.9392 - val_loss: 2.0678 - val_accuracy: 0.6500\n"
          ]
        },
        {
          "output_type": "execute_result",
          "data": {
            "text/plain": [
              "<keras.callbacks.History at 0x7f21a00740d0>"
            ]
          },
          "metadata": {},
          "execution_count": 8
        }
      ],
      "source": [
        "model.fit(train_generator,epochs = 10, validation_data = valid_generator, verbose = 1)"
      ]
    },
    {
      "cell_type": "code",
      "execution_count": 9,
      "metadata": {
        "colab": {
          "base_uri": "https://localhost:8080/"
        },
        "id": "J8mIiWzplZT0",
        "outputId": "0f7dbfd1-803b-43f5-d0c9-9dadcf5b8fea"
      },
      "outputs": [
        {
          "output_type": "stream",
          "name": "stdout",
          "text": [
            "3/3 [==============================] - 2s 337ms/step - loss: 2.1264 - accuracy: 0.6154\n"
          ]
        },
        {
          "output_type": "execute_result",
          "data": {
            "text/plain": [
              "[2.1264326572418213, 0.6153846383094788]"
            ]
          },
          "metadata": {},
          "execution_count": 9
        }
      ],
      "source": [
        "model.evaluate(test_generator)"
      ]
    }
  ],
  "metadata": {
    "colab": {
      "collapsed_sections": [],
      "name": "resnet(dump).ipynb",
      "provenance": []
    },
    "gpuClass": "standard",
    "kernelspec": {
      "display_name": "Python 3",
      "name": "python3"
    },
    "language_info": {
      "name": "python"
    },
    "accelerator": "GPU"
  },
  "nbformat": 4,
  "nbformat_minor": 0
}