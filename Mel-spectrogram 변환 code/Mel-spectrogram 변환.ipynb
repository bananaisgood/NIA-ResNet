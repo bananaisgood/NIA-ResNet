{
 "cells": [
  {
   "cell_type": "code",
   "execution_count": null,
   "id": "56785669",
   "metadata": {},
   "outputs": [],
   "source": [
    "import torch\n",
    "import torchaudio\n",
    "import torchaudio.functional as F\n",
    "import torchaudio.transforms as T\n",
    "from IPython.display import Audio\n",
    "import librosa\n",
    "import matplotlib.pyplot as plt\n",
    "from torchaudio.utils import download_asset\n",
    "import numpy as np\n",
    "import librosa.display\n",
    "import librosa\n",
    "import os\n",
    "from PIL import Image\n",
    "import matplotlib.pyplot as plt\n",
    "import os.path"
   ]
  },
  {
   "cell_type": "code",
   "execution_count": null,
   "id": "15bab976",
   "metadata": {},
   "outputs": [],
   "source": [
    "for i in range(1,340):\n",
    "    y , sr = librosa.load(f'C:/Users/USER/주피터/거위/음원 ({i}).wav')\n",
    "    S = librosa.feature.melspectrogram(y, sr=sr)\n",
    "    S_DB = librosa.amplitude_to_db(S, ref=np.max)\n",
    "\n",
    "    plt.figure(figsize=(16,6))\n",
    "    librosa.display.specshow(S_DB, sr=sr,hop_length=512, x_axis='time',y_axis='log')\n",
    "    plt.colorbar()\n",
    "    plt.savefig(f'음원{i}.png')"
   ]
  }
 ],
 "metadata": {
  "kernelspec": {
   "display_name": "Python 3 (ipykernel)",
   "language": "python",
   "name": "python3"
  },
  "language_info": {
   "codemirror_mode": {
    "name": "ipython",
    "version": 3
   },
   "file_extension": ".py",
   "mimetype": "text/x-python",
   "name": "python",
   "nbconvert_exporter": "python",
   "pygments_lexer": "ipython3",
   "version": "3.9.12"
  }
 },
 "nbformat": 4,
 "nbformat_minor": 5
}
